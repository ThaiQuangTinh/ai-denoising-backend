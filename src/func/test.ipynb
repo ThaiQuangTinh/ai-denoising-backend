{
 "cells": [
  {
   "cell_type": "code",
   "execution_count": 1,
   "id": "d052b939",
   "metadata": {},
   "outputs": [
    {
     "name": "stdout",
     "output_type": "stream",
     "text": [
      "📄 Thông tin file WAV:\n",
      "- Tên file       : mixed_snr5.wav\n",
      "- Sample rate    : 16000 Hz\n",
      "- Channels       : 1\n",
      "- Duration       : 27.00 giây\n",
      "- Frames         : 432000\n",
      "- Dtype          : float64\n",
      "- Subtype        : PCM_16\n",
      "- Format         : WAV\n",
      "- Size (samples) : (432000,)\n",
      "- File path      : ./tmp/mixed_snr5.wav\n"
     ]
    }
   ],
   "source": [
    "import soundfile as sf\n",
    "import os\n",
    "\n",
    "def print_wav_info(file_path):\n",
    "    if not os.path.exists(file_path):\n",
    "        print(f\"❌ File không tồn tại: {file_path}\")\n",
    "        return\n",
    "\n",
    "    # Đọc metadata và dữ liệu\n",
    "    info = sf.info(file_path)\n",
    "    data, sr = sf.read(file_path)\n",
    "\n",
    "    print(\"📄 Thông tin file WAV:\")\n",
    "    print(f\"- Tên file       : {os.path.basename(file_path)}\")\n",
    "    print(f\"- Sample rate    : {info.samplerate} Hz\")\n",
    "    print(f\"- Channels       : {info.channels}\")\n",
    "    print(f\"- Duration       : {info.frames / info.samplerate:.2f} giây\")\n",
    "    print(f\"- Frames         : {info.frames}\")\n",
    "    print(f\"- Dtype          : {data.dtype}\")\n",
    "    print(f\"- Subtype        : {info.subtype}\")\n",
    "    print(f\"- Format         : {info.format}\")\n",
    "    print(f\"- Size (samples) : {data.shape}\")\n",
    "    print(f\"- File path      : {file_path}\")\n",
    "\n",
    "# Ví dụ dùng\n",
    "print_wav_info(\"./tmp/mixed_snr5.wav\")\n",
    "# print_wav_info(\"./tmp/mixed_snr5_5s.wav\")"
   ]
  }
 ],
 "metadata": {
  "kernelspec": {
   "display_name": "Python 3",
   "language": "python",
   "name": "python3"
  },
  "language_info": {
   "codemirror_mode": {
    "name": "ipython",
    "version": 3
   },
   "file_extension": ".py",
   "mimetype": "text/x-python",
   "name": "python",
   "nbconvert_exporter": "python",
   "pygments_lexer": "ipython3",
   "version": "3.7.9"
  }
 },
 "nbformat": 4,
 "nbformat_minor": 5
}
